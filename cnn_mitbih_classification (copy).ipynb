{
 "cells": [
  {
   "cell_type": "code",
   "execution_count": 309,
   "id": "2643111c",
   "metadata": {},
   "outputs": [],
   "source": [
    "import torch\n",
    "import torchvision\n",
    "import torch.nn as nn\n",
    "import numpy as np\n",
    "import random\n",
    "import torchvision.transforms as transforms\n",
    "from tqdm import tqdm\n",
    "from matplotlib import pyplot as plt\n",
    "import seaborn as sns\n",
    "from sklearn.utils.class_weight import compute_class_weight\n",
    "from sklearn.metrics import classification_report\n",
    "#from google.colab import drive\n",
    "\n",
    "from torchvision import datasets, transforms\n",
    "\n",
    "\n",
    "import os\n",
    "from torch.utils.data import Dataset, DataLoader\n",
    "from PIL import Image"
   ]
  },
  {
   "cell_type": "code",
   "execution_count": 310,
   "id": "aea4b228",
   "metadata": {},
   "outputs": [],
   "source": [
    "# # Fully connected neural network with one hidden layer\n",
    "# class NeuralNet(nn.Module):\n",
    "#     def __init__(self, input_size, num_classes):\n",
    "#         super(NeuralNet,self).__init__()\n",
    "#         self.l1 = nn.Linear(input_size,num_classes)\n",
    "\n",
    "#     def forward(self,x):\n",
    "#         out = self.l1(x)\n",
    "#         # no activation and no softmax at the end\n",
    "#         return out\n",
    "    "
   ]
  },
  {
   "cell_type": "code",
   "execution_count": 311,
   "id": "5bbbdd89",
   "metadata": {},
   "outputs": [],
   "source": [
    "#input_size = 198*120\n",
    "#input_size = 11760\n",
    "#input_size = 7680\n",
    "\n",
    "# Fully connected neural network with one hidden layer\n",
    "class NeuralNet(nn.Module):\n",
    "    def __init__(self, input_size, num_classes):\n",
    "        super(NeuralNet,self).__init__()\n",
    "        self.l1 = nn.Linear(input_size,160) # first layer\n",
    "        self.relu = nn.ReLU() # activation function\n",
    "        self.l2 = nn.Linear(160,num_classes) # second layer\n",
    "\n",
    "    def forward(self,x):\n",
    "        out = self.l1(x)\n",
    "        out = self.relu(out)\n",
    "        out = self.l2(out)\n",
    "        # no activation and no softmax at the end\n",
    "        return out"
   ]
  },
  {
   "cell_type": "code",
   "execution_count": 312,
   "id": "68a05e11",
   "metadata": {},
   "outputs": [],
   "source": [
    "# Training function.\n",
    "def train(epoch, model, loader, criterion, optimizer, device='cpu'):\n",
    "    l = 0\n",
    "    for data in tqdm(loader, desc=f'Epoch {epoch+1:03d}'):\n",
    "        x = data[0].to(device)\n",
    "        #x = x.view(x.size(0), -1)\n",
    "        #x = x.view(-1, 198*120)  # flattena le immagini\n",
    "        y = data[1].squeeze().to(device)\n",
    "        #print(x.shape)\n",
    "        out = model(x)\n",
    "        loss = criterion(out, y) \n",
    "        l += loss\n",
    "        loss.backward()\n",
    "        optimizer.step()\n",
    "        optimizer.zero_grad()\n",
    "    return l\n",
    "\n",
    "# # Training function. for AE\n",
    "# def trainAE(epoch, model, loader, criterion, optimizer, device='cpu')\n",
    "#     num_epochs = 50\n",
    "#     for epoch in range(num_epochs):\n",
    "#         for data in train_loader:\n",
    "#             img, _ = data\n",
    "#             img = img.to(device)\n",
    "#             optimizer.zero_grad()\n",
    "#             output = model(img)\n",
    "#             loss = criterion(output, img)\n",
    "#             loss.backward()\n",
    "#             optimizer.step()\n",
    "#         if epoch % 5== 0:\n",
    "#             print('Epoch [{}/{}], Loss: {:.4f}'.format(epoch+1, num_epochs, loss.item()))\n",
    "\n",
    "\n",
    "# Test function.\n",
    "def test(model, loader, criterion, device='cpu'):\n",
    "    l = 0\n",
    "    correct = 0\n",
    "    total = 0\n",
    "    y_true = []\n",
    "    y_pred = []\n",
    "    with torch.no_grad():\n",
    "        for data in loader:\n",
    "            x = data[0].to(device)\n",
    "            #x = x.view(-1, 198*120)  # flattena le immagini\n",
    "            y = data[1].squeeze().to(device)\n",
    "            out = model(x)\n",
    "            l += criterion(out, y)\n",
    "            _, pred = torch.max(out.data, 1)\n",
    "            total += y.size(0)\n",
    "            correct += (pred == y).sum().item()\n",
    "            y_true += y.tolist()\n",
    "            y_pred += pred.tolist()\n",
    "    return l, correct / total, y_true, y_pred"
   ]
  },
  {
   "cell_type": "code",
   "execution_count": 313,
   "id": "ee378c99",
   "metadata": {},
   "outputs": [],
   "source": [
    "# Training function for Linear NN\n",
    "def trainLinear(epoch, model, loader, criterion, optimizer, device='cpu'):\n",
    "    l = 0\n",
    "    for data in tqdm(loader, desc=f'Epoch {epoch+1:03d}'):\n",
    "        x = data[0].to(device)\n",
    "        x = x.reshape(-1, 198*120)  # flattena le immagini\n",
    "        y = data[1].squeeze().to(device)\n",
    "        #print(x.shape)\n",
    "        out = model(x)\n",
    "        loss = criterion(out, y) \n",
    "        l += loss\n",
    "        loss.backward()\n",
    "        optimizer.step()\n",
    "        optimizer.zero_grad()\n",
    "    return l\n",
    "\n",
    "# Test function for LinearNN\n",
    "def testLinear(model, loader, criterion, device='cpu'):\n",
    "    l = 0\n",
    "    correct = 0\n",
    "    total = 0\n",
    "    y_true = []\n",
    "    y_pred = []\n",
    "    with torch.no_grad():\n",
    "        for data in loader:\n",
    "            x = data[0].to(device)\n",
    "            x = x.reshape(-1, 198*120)  # flattena le immagini\n",
    "            y = data[1].squeeze().to(device)\n",
    "            out = model(x)\n",
    "            l += criterion(out, y)\n",
    "            _, pred = torch.max(out.data, 1)\n",
    "            total += y.size(0)\n",
    "            correct += (pred == y).sum().item()\n",
    "            y_true += y.tolist()\n",
    "            y_pred += pred.tolist()\n",
    "    return l, correct / total, y_true, y_pred"
   ]
  },
  {
   "cell_type": "code",
   "execution_count": 314,
   "id": "d88f4fa5",
   "metadata": {},
   "outputs": [],
   "source": [
    "# Mounta il drive di Google\n",
    "#drive.mount('/content/drive')\n",
    "\n",
    "# Definisci le cartelle delle immagini\n",
    "train_dir = 'Images/train'\n",
    "test_dir = 'Images/test'\n",
    "\n",
    "# Definisci le etichette\n",
    "etichette = ['N', 'A', 'V']\n",
    "\n",
    "# Crea un dizionario per mappare le etichette ai valori numerici\n",
    "etichette_map = {etichetta: i for i, etichetta in enumerate(etichette)}\n",
    "\n",
    "# Funzione per caricare le immagini e le loro etichette\n",
    "class ImmaginiDataset(torch.utils.data.Dataset):\n",
    "    def __init__(self, dir, transform=None):\n",
    "        self.dir = dir\n",
    "        self.transform = transform\n",
    "        self.images = []\n",
    "        for etichetta in etichette:\n",
    "            path = os.path.join(dir, etichetta)\n",
    "            for file in os.listdir(path):\n",
    "                self.images.append((os.path.join(path, file), etichetta))\n",
    "\n",
    "    def __len__(self):\n",
    "        return len(self.images)\n",
    "\n",
    "    def __getitem__(self, index):\n",
    "        path, etichetta = self.images[index]\n",
    "        #immagine = torchvision.io.read_image(path, mode=torchvision.io.ImageReadMode.LZW)\n",
    "        immagine = Image.open(path).convert('L') # Converti in bianco e nero\n",
    "        if self.transform:\n",
    "            immagine = self.transform(immagine)\n",
    "        return immagine, etichette_map[etichetta]\n",
    "\n",
    "# Crea il dataset per l'addestramento\n",
    "train_dataset = ImmaginiDataset(train_dir)\n",
    "\n",
    "# Applica le trasformazioni alle immagini\n",
    "train_transformations = transforms.Compose([\n",
    "    transforms.RandomHorizontalFlip(),\n",
    "    transforms.RandomRotation(10),\n",
    "    transforms.ToTensor()\n",
    "])\n",
    "\n",
    "train_dataset.transform = train_transformations\n",
    "\n",
    "# Crea il dataset per il test\n",
    "test_dataset = ImmaginiDataset(test_dir)\n",
    "test_dataset.transform = train_transformations\n",
    "\n",
    "# Crea i dataloader\n",
    "train_loader = torch.utils.data.DataLoader(dataset=train_dataset, batch_size=64, shuffle=True)\n",
    "test_loader = torch.utils.data.DataLoader(dataset=test_dataset, batch_size=64, shuffle=False)\n"
   ]
  },
  {
   "cell_type": "code",
   "execution_count": 315,
   "id": "d89f1f91",
   "metadata": {},
   "outputs": [
    {
     "name": "stdout",
     "output_type": "stream",
     "text": [
      "cpu\n"
     ]
    }
   ],
   "source": [
    "# Device configuration.\n",
    "device = torch.device('cuda' if torch.cuda.is_available() else 'cpu')\n",
    "print(device)"
   ]
  },
  {
   "cell_type": "code",
   "execution_count": 316,
   "id": "6fdf7eba",
   "metadata": {},
   "outputs": [],
   "source": [
    "# Hyper-parameters.\n",
    "num_classes = len(etichette)\n",
    "num_epochs = 5\n",
    "learning_rate = 0.001"
   ]
  },
  {
   "cell_type": "code",
   "execution_count": 317,
   "id": "f674f916",
   "metadata": {},
   "outputs": [],
   "source": [
    "class ConvNet(nn.Module):\n",
    "    def __init__(self, num_classes):\n",
    "        super(ConvNet, self).__init__()\n",
    "        self.layer1 = nn.Sequential(\n",
    "            nn.Conv2d(1, 16, kernel_size=5),\n",
    "            nn.ReLU(),\n",
    "            nn.MaxPool2d(kernel_size=3)\n",
    "        )\n",
    "        self.layer2 = nn.Sequential(\n",
    "            nn.Conv2d(16, 16, kernel_size=5),\n",
    "            nn.ReLU(),\n",
    "            nn.MaxPool2d(kernel_size=3)\n",
    "        )\n",
    "        #Qui devo metterci:\n",
    "        self.fc = NeuralNet(20 * 11 * 16, num_classes) \n",
    "        #se voglio avere modelli confrontabili \n",
    "        #self.fc = nn.Linear(20 * 11 * 16, num_classes)\n",
    "\n",
    "    def forward(self, x):\n",
    "        #print(f\"Input: {x.shape}\")\n",
    "        out = self.layer1(x)\n",
    "        #print(f\"Dopo layer 1: {out.shape}\")\n",
    "        out = self.layer2(out)\n",
    "        #print(f\"Dopo layer 2: {out.shape}\")\n",
    "        out = out.reshape(out.size(0), -1)\n",
    "        #print(f\"Output appiattito: {out.shape}\")\n",
    "        out = self.fc(out)\n",
    "        #print(f\"Output FC: {out.shape}\")\n",
    "        return out\n",
    "\n",
    "\n",
    "# Create the model.\n",
    "model = ConvNet(num_classes).to(device)"
   ]
  },
  {
   "cell_type": "code",
   "execution_count": 318,
   "id": "a239339e",
   "metadata": {},
   "outputs": [
    {
     "name": "stderr",
     "output_type": "stream",
     "text": [
      "Epoch 001: 100%|██████████| 31/31 [00:08<00:00,  3.55it/s]\n"
     ]
    },
    {
     "name": "stdout",
     "output_type": "stream",
     "text": [
      "Epoch 001: training loss 30.4458, test loss 7.3979, test acc 0.5726\n"
     ]
    },
    {
     "name": "stderr",
     "output_type": "stream",
     "text": [
      "Epoch 002: 100%|██████████| 31/31 [00:08<00:00,  3.59it/s]\n"
     ]
    },
    {
     "name": "stdout",
     "output_type": "stream",
     "text": [
      "Epoch 002: training loss 21.0952, test loss 3.7832, test acc 0.8489\n"
     ]
    },
    {
     "name": "stderr",
     "output_type": "stream",
     "text": [
      "Epoch 003: 100%|██████████| 31/31 [00:07<00:00,  3.90it/s]\n"
     ]
    },
    {
     "name": "stdout",
     "output_type": "stream",
     "text": [
      "Epoch 003: training loss 10.8385, test loss 3.0871, test acc 0.8748\n"
     ]
    },
    {
     "name": "stderr",
     "output_type": "stream",
     "text": [
      "Epoch 004: 100%|██████████| 31/31 [00:07<00:00,  3.98it/s]\n"
     ]
    },
    {
     "name": "stdout",
     "output_type": "stream",
     "text": [
      "Epoch 004: training loss 8.6293, test loss 2.9815, test acc 0.8748\n"
     ]
    },
    {
     "name": "stderr",
     "output_type": "stream",
     "text": [
      "Epoch 005: 100%|██████████| 31/31 [00:07<00:00,  4.01it/s]\n"
     ]
    },
    {
     "name": "stdout",
     "output_type": "stream",
     "text": [
      "Epoch 005: training loss 7.8083, test loss 2.5893, test acc 0.8867\n",
      "              precision    recall  f1-score   support\n",
      "\n",
      "           0       0.90      0.95      0.92       288\n",
      "           1       0.76      0.77      0.77        83\n",
      "           2       0.96      0.83      0.89       132\n",
      "\n",
      "    accuracy                           0.89       503\n",
      "   macro avg       0.87      0.85      0.86       503\n",
      "weighted avg       0.89      0.89      0.89       503\n",
      "\n"
     ]
    }
   ],
   "source": [
    "# Loss and optimizer.\n",
    "criterion = nn.CrossEntropyLoss()\n",
    "optimizer = torch.optim.Adam(model.parameters(), lr=learning_rate)\n",
    "\n",
    "# Training and test._get_conv_output_size\n",
    "for epoch in range(num_epochs):\n",
    "    train_loss = train(epoch, model, train_loader, criterion, optimizer, device)\n",
    "    test_loss, test_acc, y_true, y_pred = test(model, test_loader, criterion, device)\n",
    "    print(f'Epoch {epoch+1:03d}: training loss {train_loss:.4f}, test loss {test_loss:.4f}, test acc {test_acc:.4f}')\n",
    "\n",
    "print(classification_report(y_true, y_pred, zero_division=0))"
   ]
  },
  {
   "cell_type": "code",
   "execution_count": 319,
   "id": "74491939",
   "metadata": {},
   "outputs": [],
   "source": [
    "# Define the autoencoder architecture\n",
    "class Autoencoder(nn.Module):\n",
    "    def __init__(self):\n",
    "        super(Autoencoder, self).__init__()\n",
    "        self.encoder = nn.Sequential(\n",
    "            nn.Conv2d(1, 16, kernel_size=3, stride=1, padding=1),\n",
    "            nn.ReLU(),\n",
    "            nn.MaxPool2d(kernel_size=2, stride=2),\n",
    "            nn.Conv2d(16, 8, kernel_size=3, stride=1, padding=1),\n",
    "            nn.ReLU(),\n",
    "            nn.MaxPool2d(kernel_size=2, stride=2)\n",
    "        )\n",
    "        self.decoder = nn.Sequential(\n",
    "            nn.ConvTranspose2d(8, 16, \n",
    "                               kernel_size=3, \n",
    "                               stride=2, \n",
    "                               padding=1, \n",
    "                               output_padding=1),\n",
    "            nn.ReLU(),\n",
    "            nn.ConvTranspose2d(16, 1, \n",
    "                               kernel_size=3, \n",
    "                               stride=2, \n",
    "                               padding=1, \n",
    "                               output_padding=1),\n",
    "            nn.Sigmoid()\n",
    "        )\n",
    "        \n",
    "    def forward(self, x):\n",
    "        x = self.encoder(x)\n",
    "        x = self.decoder(x)\n",
    "        x = nn.functional.interpolate(x, size=(120, 198)) #interpolazione per raggiungere le dimensioni di output\n",
    "        return x\n",
    "\n",
    "\n",
    "# Initialize the autoencoder\n",
    "model = Autoencoder().to(device)"
   ]
  },
  {
   "cell_type": "code",
   "execution_count": 320,
   "id": "4c16d64b",
   "metadata": {},
   "outputs": [
    {
     "name": "stdout",
     "output_type": "stream",
     "text": [
      "Epoch [1/5], Loss: 0.1296\n",
      "Epoch [2/5], Loss: 0.0372\n",
      "Epoch [3/5], Loss: 0.0214\n",
      "Epoch [4/5], Loss: 0.0152\n",
      "Epoch [5/5], Loss: 0.0120\n"
     ]
    }
   ],
   "source": [
    " # Define the loss function and optimizer\n",
    "criterion = nn.MSELoss()\n",
    "optimizer = torch.optim.Adam(model.parameters(), lr=learning_rate)\n",
    "\n",
    "# Train the autoencoder\n",
    "for epoch in range(num_epochs):\n",
    "    for data in train_loader:\n",
    "        img, _ = data\n",
    "        img = img.to(device)\n",
    "        optimizer.zero_grad()\n",
    "        output = model(img)\n",
    "        loss = criterion(output, img)\n",
    "        loss.backward()\n",
    "        optimizer.step()\n",
    "    #if epoch % 5== 0:\n",
    "    print('Epoch [{}/{}], Loss: {:.4f}'.format(epoch+1, num_epochs, loss.item()))\n",
    "\n",
    "# Save the model\n",
    "torch.save(model.state_dict(), 'conv_autoencoder.pth')"
   ]
  },
  {
   "cell_type": "code",
   "execution_count": 321,
   "id": "35c512e6",
   "metadata": {},
   "outputs": [
    {
     "data": {
      "text/plain": [
       "<Figure size 1600x1200 with 0 Axes>"
      ]
     },
     "metadata": {},
     "output_type": "display_data"
    },
    {
     "data": {
      "image/png": "[encoded data removed]",
      "text/plain": [
       "<Figure size 1500x400 with 14 Axes>"
      ]
     },
     "metadata": {},
     "output_type": "display_data"
    }
   ],
   "source": [
    "with torch.no_grad():\n",
    "    for data, _ in test_loader:\n",
    "        data = data.to(device)\n",
    "        recon = model(data)\n",
    "        break\n",
    "        \n",
    "import matplotlib.pyplot as plt\n",
    "plt.figure(dpi=250)\n",
    "fig, ax = plt.subplots(2, 7, figsize=(15, 4))\n",
    "for i in range(7):\n",
    "    ax[0, i].imshow(data[i].cpu().numpy().transpose((1, 2, 0)))\n",
    "    ax[1, i].imshow(recon[i].cpu().numpy().transpose((1, 2, 0)))\n",
    "    ax[0, i].axis('OFF')\n",
    "    ax[1, i].axis('OFF')\n",
    "plt.show()"
   ]
  },
  {
   "cell_type": "code",
   "execution_count": 322,
   "id": "095a4e5b",
   "metadata": {},
   "outputs": [
    {
     "name": "stderr",
     "output_type": "stream",
     "text": [
      "/tmp/ipykernel_57712/480380103.py:12: FutureWarning: You are using `torch.load` with `weights_only=False` (the current default value), which uses the default pickle module implicitly. It is possible to construct malicious pickle data which will execute arbitrary code during unpickling (See https://github.com/pytorch/pytorch/blob/main/SECURITY.md#untrusted-models for more details). In a future release, the default value for `weights_only` will be flipped to `True`. This limits the functions that could be executed during unpickling. Arbitrary objects will no longer be allowed to be loaded via this mode unless they are explicitly allowlisted by the user via `torch.serialization.add_safe_globals`. We recommend you start setting `weights_only=True` for any use case where you don't have full control of the loaded file. Please open an issue on GitHub for any issues related to this experimental feature.\n",
      "  autoencoder_model.load_state_dict(torch.load('conv_autoencoder.pth'))\n"
     ]
    },
    {
     "name": "stdout",
     "output_type": "stream",
     "text": [
      "Estrazione delle feature dallo spazio latente del training set...\n",
      "Dimensioni totali delle feature latenti (training): torch.Size([1926, 11760])\n",
      "Dimensioni totali delle etichette (training): torch.Size([1926])\n",
      "Estrazione delle feature dallo spazio latente del test set...\n",
      "Dimensioni totali delle feature latenti (test): torch.Size([503, 11760])\n",
      "Dimensioni totali delle etichette (test): torch.Size([503])\n",
      "Estrazione delle feature completata.\n"
     ]
    }
   ],
   "source": [
    "import torch\n",
    "import torch.nn as nn\n",
    "import os\n",
    "from PIL import Image\n",
    "from torchvision import transforms\n",
    "# Assumiamo che 'device' sia già definito (es. device = torch.device('cuda' if torch.cuda.is_available() else 'cpu'))\n",
    "# Assumiamo che 'etichette' e 'etichette_map' siano già definiti come in [1]\n",
    "# Assumiamo che 'ImmaginiDataset', 'train_transformations', 'train_loader', 'test_loader' siano già definiti come in [2-4]\n",
    "\n",
    "# Inizializza l'autoencoder e carica il suo stato addestrato [7, 8]\n",
    "autoencoder_model = Autoencoder().to(device)\n",
    "autoencoder_model.load_state_dict(torch.load('conv_autoencoder.pth'))\n",
    "autoencoder_model.eval() # Imposta il modello in modalità valutazione (disabilita dropout/batchnorm se presenti)\n",
    "\n",
    "# Liste per salvare le feature e le etichette estratte per il training set\n",
    "latent_features_train = []\n",
    "labels_train = []\n",
    "\n",
    "# Estrazione delle feature dal training set\n",
    "print(\"Estrazione delle feature dallo spazio latente del training set...\")\n",
    "with torch.no_grad(): # Non calcolare i gradienti per risparmiare memoria e tempo\n",
    "    for batch_idx, (images, labels) in enumerate(train_loader):\n",
    "        images = images.to(device)\n",
    "        # Estrai le feature utilizzando solo l'encoder dell'Autoencoder [6]\n",
    "        features = autoencoder_model.encoder(images)\n",
    "        # Appiattisci le feature per renderle un vettore 1D per ogni immagine [9]\n",
    "        # La dimensione finale delle feature appiattite dovrebbe essere 8 * 49 * 30 = 11760\n",
    "        features = features.reshape(features.size(0), -1)\n",
    "        latent_features_train.append(features.cpu()) # Sposta sulla CPU per concatenazione successiva\n",
    "        labels_train.append(labels.cpu())\n",
    "\n",
    "# Concatena tutte le feature e le etichette del training set in un unico tensore\n",
    "all_latent_features_train = torch.cat(latent_features_train, dim=0)\n",
    "all_labels_train = torch.cat(labels_train, dim=0)\n",
    "print(f\"Dimensioni totali delle feature latenti (training): {all_latent_features_train.shape}\")\n",
    "print(f\"Dimensioni totali delle etichette (training): {all_labels_train.shape}\")\n",
    "\n",
    "# Liste per salvare le feature e le etichette estratte per il test set\n",
    "latent_features_test = []\n",
    "labels_test = []\n",
    "\n",
    "# Estrazione delle feature dal test set\n",
    "print(\"Estrazione delle feature dallo spazio latente del test set...\")\n",
    "with torch.no_grad(): # Non calcolare i gradienti per risparmiare memoria e tempo\n",
    "    for batch_idx, (images, labels) in enumerate(test_loader):\n",
    "        images = images.to(device)\n",
    "        # Estrai le feature utilizzando solo l'encoder dell'Autoencoder [6]\n",
    "        features = autoencoder_model.encoder(images)\n",
    "        # Appiattisci le feature [9]\n",
    "        features = features.reshape(features.size(0), -1)\n",
    "        latent_features_test.append(features.cpu())\n",
    "        labels_test.append(labels.cpu())\n",
    "\n",
    "# Concatena tutte le feature e le etichette del test set in un unico tensore\n",
    "all_latent_features_test = torch.cat(latent_features_test, dim=0)\n",
    "all_labels_test = torch.cat(labels_test, dim=0)\n",
    "print(f\"Dimensioni totali delle feature latenti (test): {all_latent_features_test.shape}\")\n",
    "print(f\"Dimensioni totali delle etichette (test): {all_labels_test.shape}\")\n",
    "\n",
    "# Opzionale: Puoi salvare queste feature e etichette su disco se necessario, ad esempio con torch.save()\n",
    "# torch.save({'features': all_latent_features_train, 'labels': all_labels_train}, 'latent_features_train.pt')\n",
    "# torch.save({'features': all_latent_features_test, 'labels': all_labels_test}, 'latent_features_test.pt')\n",
    "\n",
    "print(\"Estrazione delle feature completata.\")"
   ]
  },
  {
   "cell_type": "code",
   "execution_count": 323,
   "id": "916f2ae6",
   "metadata": {},
   "outputs": [],
   "source": [
    "# print(all_latent_features_train[400][5444])\n",
    "# print(all_labels_train)\n",
    "# print(all_latent_features_test)\n",
    "# print(all_labels_test)"
   ]
  },
  {
   "cell_type": "code",
   "execution_count": 324,
   "id": "40dd64d8",
   "metadata": {},
   "outputs": [],
   "source": [
    "# import torch\n",
    "# import torch.nn as nn\n",
    "# import torch.optim as optim\n",
    "# from torch.utils.data import TensorDataset, DataLoader\n",
    "# from sklearn.metrics import classification_report, confusion_matrix\n",
    "# import numpy as np\n",
    "\n",
    "# # Assumiamo che 'device' sia già definito (es. device = torch.device('cuda' if torch.cuda.is_available() else 'cpu'))\n",
    "# # Assumiamo che 'num_classes' sia già definito (es. num_classes = len(etichette) = 3)\n",
    "# # Assumiamo che 'all_latent_features_train', 'all_labels_train', 'all_latent_features_test', 'all_labels_test'\n",
    "# # siano stati generati e caricati dal Passo 1\n",
    "\n",
    "# # Se hai salvato le feature e le etichette nel Passo 1, puoi caricarle qui:\n",
    "# # data_train = torch.load('latent_features_train.pt')\n",
    "# # all_latent_features_train = data_train['features']\n",
    "# # all_labels_train = data_train['labels']\n",
    "# # data_test = torch.load('latent_features_test.pt')\n",
    "# # all_latent_features_test = data_test['features']\n",
    "# # all_labels_test = data_test['labels']\n",
    "\n",
    "# # 1. Preparazione dei DataLoader per le Feature Latenti [Non specificamente nei sorgenti, ma una conseguenza logica]\n",
    "# # Crea un dataset personalizzato dalle feature e dalle etichette\n",
    "# train_latent_dataset = TensorDataset(all_latent_features_train, all_labels_train)\n",
    "# test_latent_dataset = TensorDataset(all_latent_features_test, all_labels_test)\n",
    "\n",
    "# # Crea i DataLoader per l'addestramento e il test del classificatore\n",
    "# # Usiamo un batch_size coerente con quello dei Dataloader originali [1, 2]\n",
    "# batch_size = 64\n",
    "# train_latent_loader = DataLoader(dataset=train_latent_dataset, batch_size=batch_size, shuffle=True)\n",
    "# test_latent_loader = DataLoader(dataset=test_latent_dataset, batch_size=batch_size, shuffle=False)\n",
    "\n",
    "# # Determina la dimensione dell'input per il classificatore\n",
    "# # all_latent_features_train.shape[3] sarà la dimensione appiattita (11760 nel tuo caso)\n",
    "# input_dim_classifier = all_latent_features_train.shape[3]\n",
    "# print(f\"Dimensione delle feature latenti in input al classificatore: {input_dim_classifier}\")\n",
    "\n",
    "# # 2. Definizione del Classificatore [Non specificamente nei sorgenti, ma una conseguenza logica]\n",
    "# # Useremo una semplice rete neurale feed-forward (MLP)\n",
    "# class LatentFeatureClassifier(nn.Module):\n",
    "#     def __init__(self, input_dim, num_classes):\n",
    "#         super(LatentFeatureClassifier, self).__init__()\n",
    "#         self.fc1 = nn.Linear(input_dim, 512) # Primo strato lineare\n",
    "#         self.relu = nn.ReLU()\n",
    "#         self.dropout = nn.Dropout(0.5) # Aggiungiamo un po' di dropout per prevenire l'overfitting\n",
    "#         self.fc2 = nn.Linear(512, 256) # Secondo strato lineare\n",
    "#         self.fc3 = nn.Linear(256, num_classes) # Strato di output con il numero di classi\n",
    "\n",
    "#     def forward(self, x):\n",
    "#         x = self.fc1(x)\n",
    "#         x = self.relu(x)\n",
    "#         x = self.dropout(x)\n",
    "#         x = self.fc2(x)\n",
    "#         x = self.relu(x)\n",
    "#         x = self.fc3(x)\n",
    "#         return x\n",
    "\n",
    "# # Inizializza il classificatore\n",
    "# latent_classifier_model = LatentFeatureClassifier(input_dim_classifier, num_classes).to(device)\n",
    "\n",
    "# # 3. Definizione della Funzione di Loss e dell'Ottimizzatore [Simile a come fatto per CNN e Autoencoder nei sorgenti: 5, 8]\n",
    "# criterion_classifier = nn.CrossEntropyLoss() # Per la classificazione multi-classe\n",
    "# optimizer_classifier = optim.Adam(latent_classifier_model.parameters(), lr=0.001) # Stesso learning rate di base [2, 4]\n",
    "\n",
    "# # 4. Addestramento del Classificatore [Simile al ciclo di training delle CNN e Autoencoder nei sorgenti: 6, 8]\n",
    "# num_epochs_classifier = 50 # Potrebbe essere necessario un numero maggiore di epoche per un MLP\n",
    "# print(\"\\nAddestramento del Classificatore sulle feature latenti...\")\n",
    "# for epoch in range(num_epochs_classifier):\n",
    "#     latent_classifier_model.train() # Imposta il modello in modalità training\n",
    "#     running_loss = 0.0\n",
    "#     for batch_idx, (features, labels) in enumerate(train_latent_loader):\n",
    "#         features = features.to(device)\n",
    "#         labels = labels.to(device)\n",
    "\n",
    "#         # Forward pass\n",
    "#         outputs = latent_classifier_model(features)\n",
    "#         loss = criterion_classifier(outputs, labels)\n",
    "\n",
    "#         # Backward and optimize\n",
    "#         optimizer_classifier.zero_grad()\n",
    "#         loss.backward()\n",
    "#         optimizer_classifier.step()\n",
    "\n",
    "#         running_loss += loss.item()\n",
    "\n",
    "#     print(f'Epoch [{epoch+1}/{num_epochs_classifier}], Loss: {running_loss/len(train_latent_loader):.4f}')\n",
    "\n",
    "# print(\"Addestramento del classificatore completato.\")\n",
    "\n",
    "# # 5. Valutazione del Classificatore [Simile a come fatto per le CNN nei sorgenti: 6]\n",
    "# print(\"\\nValutazione del Classificatore sulle feature latenti...\")\n",
    "# latent_classifier_model.eval() # Imposta il modello in modalità valutazione\n",
    "# y_true_latent = []\n",
    "# y_pred_latent = []\n",
    "\n",
    "# with torch.no_grad():\n",
    "#     correct = 0\n",
    "#     total = 0\n",
    "#     for features, labels in test_latent_loader:\n",
    "#         features = features.to(device)\n",
    "#         labels = labels.to(device)\n",
    "#         outputs = latent_classifier_model(features)\n",
    "#         _, predicted = torch.max(outputs.data, 1)\n",
    "#         total += labels.size(0)\n",
    "#         correct += (predicted == labels).sum().item()\n",
    "\n",
    "#         y_true_latent.extend(labels.cpu().numpy())\n",
    "#         y_pred_latent.extend(predicted.cpu().numpy())\n",
    "\n",
    "# accuracy = 100 * correct / total\n",
    "# print(f'Accuratezza del classificatore sulle feature latenti nel test set: {accuracy:.2f}%')\n",
    "\n",
    "# # Visualizza il report di classificazione e la matrice di confusione\n",
    "# print(\"\\nReport di Classificazione:\")\n",
    "# print(classification_report(y_true_latent, y_pred_latent, target_names=['N', 'A', 'V'])) # Utilizza etichette reali [3]\n",
    "# print(\"\\nMatrice di Confusione:\")\n",
    "# print(confusion_matrix(y_true_latent, y_pred_latent))\n",
    "\n",
    "# # Opzionale: Salva il modello del classificatore\n",
    "# # torch.save(latent_classifier_model.state_dict(), 'latent_feature_classifier.pth')"
   ]
  },
  {
   "cell_type": "code",
   "execution_count": 325,
   "id": "53a12af7",
   "metadata": {},
   "outputs": [],
   "source": [
    "# # 1. Estrarre le feature latenti\n",
    "# class FeatureExtractor(nn.Module):\n",
    "#     def __init__(self):\n",
    "#         super(FeatureExtractor, self).__init__()\n",
    "#         self.encoder = model.encoder\n",
    "\n",
    "#     def forward(self, x):\n",
    "#         return self.encoder(x)\n",
    "\n",
    "# feature_extractor = FeatureExtractor().to(device)\n",
    "\n",
    "# class FeatureDataLoader:\n",
    "#     def __init__(self, data_loader, feature_extractor):\n",
    "#         self.data_loader = data_loader\n",
    "#         self.feature_extractor = feature_extractor\n",
    "\n",
    "#     def __iter__(self):\n",
    "#         for data, label in self.data_loader:\n",
    "#             data = data.to(device)\n",
    "#             feature = self.feature_extractor(data)\n",
    "#             yield feature, label\n",
    "\n",
    "# feature_data_loader = FeatureDataLoader(train_loader, feature_extractor)\n",
    "\n",
    "\n",
    "# # 2. Creare un dataset nuovo\n",
    "# class LatentFeatureDataset(torch.utils.data.Dataset):\n",
    "#     def __init__(self, data_loader, feature_extractor):\n",
    "#         self.data_loader = data_loader\n",
    "#         self.feature_extractor = feature_extractor\n",
    "#         self.features = []\n",
    "#         self.labels = []\n",
    "\n",
    "#         with torch.no_grad():\n",
    "#             for data, label in self.data_loader:\n",
    "#                 data = data.to(device)\n",
    "#                 feature = self.feature_extractor(data)\n",
    "#                 self.features.append(feature.cpu().numpy())\n",
    "#                 self.labels.append(label.cpu().numpy())\n",
    "\n",
    "#     def __len__(self):\n",
    "#         return len(self.features)\n",
    "\n",
    "#     def __getitem__(self, index):\n",
    "#         return self.features[index], self.labels[index]\n",
    "\n",
    "# latent_dataset = LatentFeatureDataset(train_loader, feature_extractor)\n",
    "\n",
    "# # 3. Addestrare la rete densa\n",
    "# class DenseClassifier(nn.Module):\n",
    "#     def __init__(self):\n",
    "#         super(DenseClassifier, self).__init__()\n",
    "#         self.fc1 = nn.Linear(11760, 128)  # Modifica qui\n",
    "#         self.relu = nn.ReLU()\n",
    "#         #self.dropout = nn.Dropout(0.2)\n",
    "#         self.fc2 = nn.Linear(128, num_classes)\n",
    "\n",
    "#     def forward(self, x):\n",
    "#         x = x.view(x.size(0), -1)\n",
    "#         x = self.relu(self.fc1(x))\n",
    "#         #x = self.dropout(x)\n",
    "#         x = self.fc2(x)\n",
    "#         return x\n",
    "\n",
    "# dense_classifier = DenseClassifier().to(device)\n",
    "\n",
    "# criterion = nn.CrossEntropyLoss()\n",
    "# optimizer = torch.optim.Adam(dense_classifier.parameters(), lr=learning_rate)\n",
    "\n",
    "# num_epochs = 5\n",
    "# for epoch in range(num_epochs):\n",
    "#     for features, labels in feature_data_loader:\n",
    "#         features = features.view(features.size(0), -1) # Riduci la dimensionalità di features\n",
    "#         optimizer.zero_grad()\n",
    "#         outputs = dense_classifier(features)\n",
    "#         loss = criterion(outputs, labels.long()) # Aggiungi .long() qui\n",
    "#         loss.backward()\n",
    "#         optimizer.step()\n",
    "#     print('Epoch [{}/{}], Loss: {:.4f}'.format(epoch+1, num_epochs, loss.item()))"
   ]
  },
  {
   "cell_type": "code",
   "execution_count": 326,
   "id": "23c2580b",
   "metadata": {},
   "outputs": [],
   "source": [
    "# # Valutazione sul set di test\n",
    "# test_feature_data_loader = FeatureDataLoader(test_loader, feature_extractor)\n",
    "\n",
    "# test_loss = 0\n",
    "# correct = 0\n",
    "# total = 0\n",
    "# num_samples = 0\n",
    "\n",
    "# with torch.no_grad():\n",
    "#     for features, labels in test_feature_data_loader:\n",
    "#         outputs = dense_classifier(features)\n",
    "#         loss = criterion(outputs, labels.long())\n",
    "#         test_loss += loss.item() * labels.size(0)\n",
    "#         _, predicted = torch.max(outputs, 1)\n",
    "#         correct += (predicted == labels).sum().item()\n",
    "#         total += labels.size(0)\n",
    "#         num_samples += labels.size(0)\n",
    "\n",
    "# accuracy = correct / num_samples\n",
    "# print(f'Test Loss: {test_loss / num_samples}')\n",
    "# print(f'Test Accuracy: {accuracy:.4f}')\n"
   ]
  },
  {
   "cell_type": "code",
   "execution_count": 327,
   "id": "8cab144b",
   "metadata": {},
   "outputs": [],
   "source": [
    "# import seaborn as sns\n",
    "# import matplotlib.pyplot as plt\n",
    "# from sklearn.metrics import confusion_matrix\n",
    "\n",
    "# test_labels = []\n",
    "# test_predicted = []\n",
    "\n",
    "# with torch.no_grad():\n",
    "#     for features, labels in test_feature_data_loader:\n",
    "#         outputs = dense_classifier(features)\n",
    "#         _, predicted = torch.max(outputs, 1)\n",
    "#         test_labels.extend(labels.cpu().numpy())\n",
    "#         test_predicted.extend(predicted.cpu().numpy())\n",
    "\n",
    "# confusion_matrix = confusion_matrix(test_labels, test_predicted)\n",
    "# plt.figure(figsize=(10, 8))\n",
    "# sns.heatmap(confusion_matrix.astype(int), annot=True, cmap='Blues', fmt='d')\n",
    "# plt.xlabel('Predicted labels')\n",
    "# plt.ylabel('True labels')\n",
    "# plt.show()\n"
   ]
  },
  {
   "cell_type": "code",
   "execution_count": 328,
   "id": "570388b3",
   "metadata": {},
   "outputs": [],
   "source": [
    "# test_labels = []\n",
    "# test_predicted = []\n",
    "\n",
    "# with torch.no_grad():\n",
    "#     for features, labels in test_feature_data_loader:\n",
    "#         outputs = dense_classifier(features)\n",
    "#         _, predicted = torch.max(outputs, 1)\n",
    "#         test_labels.extend(labels.cpu().numpy())\n",
    "#         test_predicted.extend(predicted.cpu().numpy())\n",
    "\n",
    "# print(classification_report(test_labels, test_predicted, zero_division=0))\n"
   ]
  },
  {
   "cell_type": "code",
   "execution_count": null,
   "id": "e9ca2a1f",
   "metadata": {},
   "outputs": [],
   "source": [
    "#input_size = 198*120\n",
    "input_size = 11760\n",
    "#input_size = 7680\n",
    "\n",
    "# # Fully connected neural network with one hidden layer\n",
    "# class NeuralNet(nn.Module):\n",
    "#     def __init__(self, input_size, num_classes):\n",
    "#         super(NeuralNet,self).__init__()\n",
    "#         self.l1 = nn.Linear(input_size,160) # first layer\n",
    "#         self.relu = nn.ReLU() # activation function\n",
    "#         self.l2 = nn.Linear(160,num_classes) # second layer\n",
    "\n",
    "#     def forward(self,x):\n",
    "#         out = self.l1(x)\n",
    "#         out = self.relu(out)\n",
    "#         out = self.l2(out)\n",
    "#         # no activation and no softmax at the end\n",
    "#         return out\n",
    "\n",
    "\n",
    "    \n",
    "model = NeuralNet(input_size,num_classes).to(device)"
   ]
  },
  {
   "cell_type": "code",
   "execution_count": 330,
   "id": "5effb7bf",
   "metadata": {},
   "outputs": [
    {
     "name": "stdout",
     "output_type": "stream",
     "text": [
      "torch.Size([1926, 11760])\n"
     ]
    }
   ],
   "source": [
    "print(all_latent_features_train.shape)\n"
   ]
  },
  {
   "cell_type": "code",
   "execution_count": 333,
   "id": "0345ba06",
   "metadata": {},
   "outputs": [
    {
     "name": "stdout",
     "output_type": "stream",
     "text": [
      "Epoch 001, Loss: 1.3780\n",
      "Epoch 002, Loss: 21.5014\n",
      "Epoch 003, Loss: 25.4086\n",
      "Epoch 004, Loss: 13.3629\n",
      "Epoch 005, Loss: 12.8270\n",
      "              precision    recall  f1-score   support\n",
      "\n",
      "           0       0.57      1.00      0.73       288\n",
      "           1       0.00      0.00      0.00        83\n",
      "           2       0.00      0.00      0.00       132\n",
      "\n",
      "    accuracy                           0.57       503\n",
      "   macro avg       0.19      0.33      0.24       503\n",
      "weighted avg       0.33      0.57      0.42       503\n",
      "\n"
     ]
    }
   ],
   "source": [
    "# Loss and optimizer.\n",
    "criterion = nn.CrossEntropyLoss()\n",
    "optimizer = torch.optim.Adam(model.parameters(), lr=learning_rate)\n",
    "\n",
    "# Training \n",
    "for epoch in range(num_epochs):\n",
    "    optimizer.zero_grad()\n",
    "    outputs = model(all_latent_features_train)\n",
    "    loss = criterion(outputs, all_labels_train)\n",
    "    loss.backward()\n",
    "    optimizer.step()\n",
    "    print(f'Epoch {epoch+1:03d}, Loss: {loss.item():.4f}')\n",
    "\n",
    "\n",
    "model.eval()\n",
    "with torch.no_grad():\n",
    "    outputs = model(all_latent_features_test)\n",
    "    _, predicted = torch.max(outputs, 1)\n",
    "    y_pred = predicted.cpu().numpy()\n",
    "    y_true = all_labels_test.cpu().numpy()\n",
    "    print(classification_report(y_true, y_pred, zero_division=0))"
   ]
  },
  {
   "cell_type": "code",
   "execution_count": null,
   "id": "7203b18e",
   "metadata": {},
   "outputs": [],
   "source": [
    "# # Loss and optimizer.\n",
    "# criterion = nn.CrossEntropyLoss()\n",
    "# optimizer = torch.optim.Adam(model.parameters(), lr=learning_rate)\n",
    "\n",
    "# # Training and test._get_conv_output_size\n",
    "# for epoch in range(num_epochs):\n",
    "#     train_loss = trainLinear(epoch, model, train_loader, criterion, optimizer, device)\n",
    "#     test_loss, test_acc, y_true, y_pred = testLinear(model, test_loader, criterion, device)\n",
    "#     print(f'Epoch {epoch+1:03d}: training loss {train_loss:.4f}, test loss {test_loss:.4f}, test acc {test_acc:.4f}')\n",
    "\n",
    "# print(classification_report(y_true, y_pred, zero_division=0))"
   ]
  },
  {
   "cell_type": "code",
   "execution_count": null,
   "id": "d704149b",
   "metadata": {},
   "outputs": [
    {
     "name": "stderr",
     "output_type": "stream",
     "text": [
      "Epoch 001: 100%|██████████| 31/31 [00:01<00:00, 27.65it/s]\n"
     ]
    },
    {
     "name": "stdout",
     "output_type": "stream",
     "text": [
      "Epoch 001: training loss 244.9446, test loss 37.7578, test acc 0.5726\n"
     ]
    },
    {
     "name": "stderr",
     "output_type": "stream",
     "text": [
      "Epoch 002: 100%|██████████| 31/31 [00:01<00:00, 29.39it/s]\n"
     ]
    },
    {
     "name": "stdout",
     "output_type": "stream",
     "text": [
      "Epoch 002: training loss 81.5750, test loss 13.4591, test acc 0.2624\n"
     ]
    },
    {
     "name": "stderr",
     "output_type": "stream",
     "text": [
      "Epoch 003: 100%|██████████| 31/31 [00:01<00:00, 30.87it/s]\n"
     ]
    },
    {
     "name": "stdout",
     "output_type": "stream",
     "text": [
      "Epoch 003: training loss 37.8472, test loss 10.0905, test acc 0.5726\n"
     ]
    },
    {
     "name": "stderr",
     "output_type": "stream",
     "text": [
      "Epoch 004: 100%|██████████| 31/31 [00:01<00:00, 29.16it/s]\n"
     ]
    },
    {
     "name": "stdout",
     "output_type": "stream",
     "text": [
      "Epoch 004: training loss 46.4726, test loss 24.0750, test acc 0.2624\n"
     ]
    },
    {
     "name": "stderr",
     "output_type": "stream",
     "text": [
      "Epoch 005: 100%|██████████| 31/31 [00:01<00:00, 29.65it/s]\n"
     ]
    },
    {
     "name": "stdout",
     "output_type": "stream",
     "text": [
      "Epoch 005: training loss 46.1548, test loss 19.4702, test acc 0.5726\n",
      "              precision    recall  f1-score   support\n",
      "\n",
      "           0       0.57      1.00      0.73       288\n",
      "           1       0.00      0.00      0.00        83\n",
      "           2       0.00      0.00      0.00       132\n",
      "\n",
      "    accuracy                           0.57       503\n",
      "   macro avg       0.19      0.33      0.24       503\n",
      "weighted avg       0.33      0.57      0.42       503\n",
      "\n"
     ]
    }
   ],
   "source": [
    "# Loss and optimizer.\n",
    "criterion = nn.CrossEntropyLoss()\n",
    "optimizer = torch.optim.Adam(model.parameters(), lr=learning_rate)\n",
    "\n",
    "# Training and test._get_conv_output_size\n",
    "for epoch in range(num_epochs):\n",
    "    train_loss = train(epoch, model, train_loader, criterion, optimizer, device)\n",
    "    test_loss, test_acc, y_true, y_pred = test(model, test_loader, criterion, device)\n",
    "    print(f'Epoch {epoch+1:03d}: training loss {train_loss:.4f}, test loss {test_loss:.4f}, test acc {test_acc:.4f}')\n",
    "\n",
    "print(classification_report(y_true, y_pred, zero_division=0))"
   ]
  }
 ],
 "metadata": {
  "kernelspec": {
   "display_name": "base",
   "language": "python",
   "name": "python3"
  },
  "language_info": {
   "codemirror_mode": {
    "name": "ipython",
    "version": 3
   },
   "file_extension": ".py",
   "mimetype": "text/x-python",
   "name": "python",
   "nbconvert_exporter": "python",
   "pygments_lexer": "ipython3",
   "version": "3.12.4"
  }
 },
 "nbformat": 4,
 "nbformat_minor": 5
}
