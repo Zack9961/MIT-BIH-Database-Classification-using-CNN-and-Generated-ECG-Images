{
 "cells": [
  {
   "cell_type": "code",
   "execution_count": 2,
   "id": "2efe8fa9",
   "metadata": {},
   "outputs": [],
   "source": [
    "import numpy as np \n",
    "import pandas as pd \n",
    "import os\n",
    "\n",
    "import matplotlib.pyplot as plt\n",
    "import csv\n",
    "import itertools\n",
    "import collections\n",
    "\n",
    "from scipy import stats\n",
    "\n",
    "from sklearn.utils import resample\n",
    "from sklearn.model_selection import train_test_split\n",
    "\n",
    "\n",
    "%matplotlib inline"
   ]
  },
  {
   "cell_type": "code",
   "execution_count": 3,
   "id": "031ff433",
   "metadata": {},
   "outputs": [],
   "source": [
    "# path = 'mitbih_database/'\n",
    "# # window_size = 180\n",
    "# # maximum_counting = 10000\n",
    "\n",
    "# classes = ['N', 'L', 'R', 'A', 'V']"
   ]
  },
  {
   "cell_type": "code",
   "execution_count": 4,
   "id": "6139561f",
   "metadata": {},
   "outputs": [],
   "source": [
    "# # Read files\n",
    "# filenames = next(os.walk(path))[2] # Use os.walk() to get a list of all files in the directory specified by the path variable. [2] returns a list of file names in that directory.\n",
    "\n",
    "# # Split and save .csv , .txt \n",
    "# records = list()\n",
    "# annotations = list()\n",
    "# filenames.sort()\n",
    "# #filenames"
   ]
  },
  {
   "cell_type": "code",
   "execution_count": 5,
   "id": "a6d8a78e",
   "metadata": {},
   "outputs": [],
   "source": [
    "# # seggregating filenames and annotations\n",
    "# for f in filenames:\n",
    "#     #estraggo il nome del file e l'estensione\n",
    "#     filename, file_extension = os.path.splitext(f) \n",
    "    \n",
    "#     # *.csv\n",
    "#     if(file_extension == '.csv'):\n",
    "#         records.append(path + filename + file_extension)\n",
    "\n",
    "#     # *.txt\n",
    "#     else:\n",
    "#         annotations.append(path + filename + file_extension)\n",
    "# #records"
   ]
  },
  {
   "cell_type": "code",
   "execution_count": 6,
   "id": "7af1db05",
   "metadata": {},
   "outputs": [],
   "source": [
    "# for r in range(0,1): #len(records)\n",
    "#     signals = []\n",
    "\n",
    "#     with open(records[r], 'rt') as csvfile:\n",
    "#         spamreader = csv.reader(csvfile, delimiter=',', quotechar='|') # read CSV file\n",
    "#         next(spamreader)  # salta la riga di intestazione\n",
    "#         for row in spamreader:\n",
    "#             signals.append(int(row[1]))"
   ]
  },
  {
   "cell_type": "code",
   "execution_count": 7,
   "id": "f817112e",
   "metadata": {},
   "outputs": [],
   "source": [
    "\n",
    "# # Creo il dataframe che deve contenere il tipo di battito con i rispettivi intervalli\n",
    "# df_new = pd.DataFrame(columns=['type', 'sample_start', 'sample_end'])\n",
    "# big_df = pd.DataFrame(columns=['file_name','id_beat','sample#','MLII','type'])\n",
    "# id_beat = 0\n",
    "\n",
    "# for r in range(0,1):\n",
    "\n",
    "#     # Leggi il file txt\n",
    "#     with open(annotations[r], 'r') as f:\n",
    "#         lines = f.readlines()\n",
    "\n",
    "#     # Inizializza le variabili\n",
    "#     sample_before = None\n",
    "#     sample_after = None\n",
    "\n",
    "#     # Itera sulle righe del file\n",
    "#     for i in range(len(lines) - 2270):\n",
    "#         # Splitta la riga in colonne\n",
    "#         columns = lines[i].strip().split()\n",
    "        \n",
    "#         # Se la riga non è vuota e il tipo è 'N', 'L', 'R', 'A', 'V'\n",
    "#         if columns and columns[2] in classes:\n",
    "#             # Se non è ne la prima ne l'ultima riga, prendi il sample della riga prima e dopo\n",
    "#             if 0 < i < len(lines) - 1:\n",
    "#                 sample_before = lines[i-1].strip().split()[1]\n",
    "#                 sample_after = lines[i+1].strip().split()[1]\n",
    "#                 #Ora che ho l'intervallo giusto del battito apro il csv e inserisco quel battito nel big_df\n",
    "#                 with open(records[r], 'rt') as csvfile:\n",
    "#                     spamreader = csv.reader(csvfile, delimiter=',', quotechar='|') # read CSV file\n",
    "#                     next(spamreader)  # salta la riga di intestazione\n",
    "#                     for row in spamreader:\n",
    "#                         if sample_before <= row[0] <= sample_after:\n",
    "#                             #Qui aggiungo nel big_df il beat\n",
    "#                             big_df.loc[len(big_df)] = [records[r], id_beat, row[0], row[1], columns[2]]\n",
    "#                             #id_beat += 1\n",
    "                \n",
    "\n",
    "# # Stampa il nuovo dataframe\n",
    "# #print(big_df)\n",
    "\n",
    "\n"
   ]
  },
  {
   "cell_type": "code",
   "execution_count": 8,
   "id": "9639dac2",
   "metadata": {},
   "outputs": [],
   "source": [
    "# Records\n",
    "# for r in range(0,1): #len(records)\n",
    "#     signals = []\n",
    "\n",
    "#     with open(records[r], 'rt') as csvfile:\n",
    "#         spamreader = csv.reader(csvfile, delimiter=',', quotechar='|') # read CSV file\\\n",
    "#         row_index = -1\n",
    "#         for row in spamreader:\n",
    "#             if(row_index >= 0):\n",
    "#                 signals.insert(row_index, int(row[1]))\n",
    "#             row_index += 1\n",
    "    #print(signals)\n",
    "            \n",
    "    # Plot an example to the signals\n",
    "    # if r is 1:\n",
    "    #     # Plot each patient's signal\n",
    "    #     plt.title(records[1] + \" Wave\")\n",
    "    #     plt.plot(signals[396:711])\n",
    "    #     plt.show()\n",
    "        \n",
    "    #signals = denoise(signals)\n",
    "    # Plot an example to the signals\n",
    "    # if r is 1:\n",
    "    #     # Plot each patient's signal\n",
    "    #     plt.title(records[1] + \" wave after denoised\")\n",
    "    #     plt.plot(signals[0:700])\n",
    "    #     plt.show()\n",
    "        \n",
    "#     signals = stats.zscore(signals)\n",
    "#     # Plot an example to the signals\n",
    "#     if r is 1:\n",
    "#         # Plot each patient's signal\n",
    "#         plt.title(records[1] + \" wave after z-score normalization \")\n",
    "#         plt.plot(signals[0:700])\n",
    "#         plt.show()\n",
    "    \n",
    "#     # Read anotations: R position and Arrhythmia class\n",
    "#     example_beat_printed = False\n",
    "#     with open(annotations[r], 'r') as fileID:\n",
    "#         data = fileID.readlines() \n",
    "#         beat = list()\n",
    "\n",
    "#         for d in range(1, len(data)): # 0 index is Chart Head\n",
    "#             splitted = data[d].split(' ')\n",
    "#             splitted = filter(None, splitted)\n",
    "#             next(splitted) # Time... Clipping\n",
    "#             pos = int(next(splitted)) # Sample ID\n",
    "#             arrhythmia_type = next(splitted) # Type\n",
    "#             if(arrhythmia_type in classes):\n",
    "#                 arrhythmia_index = classes.index(arrhythmia_type)\n",
    "# #                 if count_classes[arrhythmia_index] > maximum_counting: # avoid overfitting\n",
    "# #                     pass\n",
    "# #                 else:\n",
    "#                 count_classes[arrhythmia_index] += 1\n",
    "#                 if(window_size <= pos and pos < (len(signals) - window_size)):\n",
    "#                     beat = signals[pos-window_size:pos+window_size]     ## REPLACE WITH R-PEAK DETECTION\n",
    "#                     # Plot an example to a beat    \n",
    "#                     if r is 1 and not example_beat_printed: \n",
    "#                         plt.title(\"A Beat from \" + records[1] + \" Wave\")\n",
    "#                         plt.plot(beat)\n",
    "#                         plt.show()\n",
    "#                         example_beat_printed = True\n",
    "\n",
    "#                     X.append(beat)\n",
    "#                     y.append(arrhythmia_index)\n",
    "\n",
    "# data shape\n",
    "#print(np.shape(X), np.shape(y))"
   ]
  },
  {
   "cell_type": "code",
   "execution_count": 9,
   "id": "1e00ce0b",
   "metadata": {},
   "outputs": [],
   "source": [
    "# # Plot an example to the signals\n",
    "# #if r is 1:\n",
    "#     # Plot each patient's signal\n",
    "# plt.title(records[0] + \" Wave\")\n",
    "# plt.plot(signals[2044:2706])\n",
    "# plt.show()\n",
    "# print(signals[75])"
   ]
  },
  {
   "cell_type": "code",
   "execution_count": 10,
   "id": "c2c6e4bc",
   "metadata": {},
   "outputs": [],
   "source": [
    "import os\n",
    "import csv\n",
    "import pandas as pd\n",
    "\n",
    "path = 'mitbih_database/'\n",
    "classes = ['N', 'A', 'V']\n",
    "\n",
    "# Read files\n",
    "filenames = next(os.walk(path))[2] # Use os.walk() to get a list of all files in the directory specified by the path variable. [2] returns a list of file names in that directory.\n",
    "\n",
    "# Split and save .csv , .txt \n",
    "records = list()\n",
    "annotations = list()\n",
    "filenames.sort()\n",
    "#filenames\n",
    "\n",
    "# Leggi i file CSV e TXT\n",
    "# records = []\n",
    "# annotations = []\n",
    "# for f in os.listdir(path):\n",
    "#     filename, file_extension = os.path.splitext(f)\n",
    "#     if file_extension == '.csv':\n",
    "#         records.append(path + f)\n",
    "#     elif file_extension == '.txt':\n",
    "#         annotations.append(path + f)\n",
    "\n",
    "for f in filenames:\n",
    "    #estraggo il nome del file e l'estensione\n",
    "    filename, file_extension = os.path.splitext(f) \n",
    "    \n",
    "    # *.csv\n",
    "    if(file_extension == '.csv'):\n",
    "        records.append(path + filename + file_extension)\n",
    "\n",
    "    # *.txt\n",
    "    else:\n",
    "        annotations.append(path + filename + file_extension)\n",
    "\n",
    "# Crea un dizionario per memorizzare i dati\n",
    "data = []\n",
    "id_beat = 0\n",
    "\n",
    "for r in range(0,2):\n",
    "    # Leggi il file CSV\n",
    "    df_csv = pd.read_csv(records[r], delimiter=',', quotechar='|', header=None, skiprows=1)\n",
    "    df_csv.columns = ['sample #', 'MLII','V5']\n",
    "    df_csv['sample #'] = pd.to_numeric(df_csv['sample #'])\n",
    "\n",
    "    #print(df_csv)\n",
    "    # Leggi il file TXT\n",
    "    with open(annotations[r], 'r') as f:\n",
    "        lines = f.readlines()\n",
    "\n",
    "    # Itera sulle righe del file\n",
    "    for i in range(len(lines)):\n",
    "        columns = lines[i].strip().split()\n",
    "        if columns and columns[2] in classes:\n",
    "            if 0 < i < len(lines) - 1:\n",
    "                sample_before = int(lines[i-1].strip().split()[1])\n",
    "                sample_after = int(lines[i+1].strip().split()[1])\n",
    "                # Filtra il dataframe CSV per ottenere i dati del battito\n",
    "                df_beat = df_csv[(df_csv['sample #'] >= sample_before) & (df_csv['sample #'] <= sample_after)]\n",
    "                # Aggiungi i dati al dizionario\n",
    "                for index, row in df_beat.iterrows():\n",
    "                    data.append({\n",
    "                        'file_name': records[r],\n",
    "                        'id_beat': id_beat,\n",
    "                        'sample#': row['sample #'],\n",
    "                        'MLII': row['MLII'],\n",
    "                        'type': columns[2]\n",
    "                    })\n",
    "                id_beat += 1\n",
    "\n",
    "# Crea il dataframe\n",
    "big_df = pd.DataFrame(data)\n"
   ]
  },
  {
   "cell_type": "code",
   "execution_count": 11,
   "id": "29fd5940",
   "metadata": {},
   "outputs": [
    {
     "name": "stdout",
     "output_type": "stream",
     "text": [
      "                       file_name  id_beat  sample#  MLII type\n",
      "0        mitbih_database/200.csv        0       67   998    V\n",
      "1        mitbih_database/200.csv        0       68   999    V\n",
      "2        mitbih_database/200.csv        0       69  1005    V\n",
      "3        mitbih_database/200.csv        0       70  1005    V\n",
      "4        mitbih_database/200.csv        0       71  1006    V\n",
      "...                          ...      ...      ...   ...  ...\n",
      "2544649  mitbih_database/209.csv     5601   649853  1119    N\n",
      "2544650  mitbih_database/209.csv     5601   649854  1164    N\n",
      "2544651  mitbih_database/209.csv     5601   649855  1213    N\n",
      "2544652  mitbih_database/209.csv     5601   649856  1266    N\n",
      "2544653  mitbih_database/209.csv     5601   649857  1305    N\n",
      "\n",
      "[2544654 rows x 5 columns]\n"
     ]
    }
   ],
   "source": [
    "print(big_df)"
   ]
  },
  {
   "cell_type": "code",
   "execution_count": 12,
   "id": "b8c48a34",
   "metadata": {},
   "outputs": [
    {
     "name": "stdout",
     "output_type": "stream",
     "text": [
      "4362\n"
     ]
    }
   ],
   "source": [
    "print(big_df[big_df['type'] == 'N']['id_beat'].nunique())"
   ]
  },
  {
   "cell_type": "code",
   "execution_count": 13,
   "id": "70072c9c",
   "metadata": {},
   "outputs": [
    {
     "data": {
      "image/png": "[encoded data removed]",
      "text/plain": [
       "<Figure size 1000x600 with 1 Axes>"
      ]
     },
     "metadata": {},
     "output_type": "display_data"
    }
   ],
   "source": [
    "beat_x = big_df[big_df['id_beat'] == 1]\n",
    "\n",
    "plt.figure(figsize=(10,6))\n",
    "plt.plot(beat_x['sample#'], beat_x['MLII'])\n",
    "plt.xlabel('Sample #')\n",
    "plt.ylabel('MLII')\n",
    "plt.title('Beat ')\n",
    "plt.show()\n"
   ]
  },
  {
   "cell_type": "code",
   "execution_count": 14,
   "id": "5f8dd83f",
   "metadata": {},
   "outputs": [
    {
     "name": "stdout",
     "output_type": "stream",
     "text": [
      "Il beat con la lunghezza maggiore è il beat con id_beat == 1626 e ha una lunghezza di 724 campioni\n"
     ]
    }
   ],
   "source": [
    "beat_lunghezze = big_df.groupby('id_beat').size()\n",
    "beat_lunghezze_max = beat_lunghezze.max()\n",
    "id_beat_max = beat_lunghezze.idxmax()\n",
    "\n",
    "print(f\"Il beat con la lunghezza maggiore è il beat con id_beat == {id_beat_max} e ha una lunghezza di {beat_lunghezze_max} campioni\")"
   ]
  },
  {
   "cell_type": "code",
   "execution_count": 18,
   "id": "696d4e89",
   "metadata": {},
   "outputs": [
    {
     "ename": "KeyboardInterrupt",
     "evalue": "",
     "output_type": "error",
     "traceback": [
      "\u001b[0;31m---------------------------------------------------------------------------\u001b[0m",
      "\u001b[0;31mKeyboardInterrupt\u001b[0m                         Traceback (most recent call last)",
      "\u001b[0;32m/tmp/ipykernel_79774/933940768.py\u001b[0m in \u001b[0;36m?\u001b[0;34m()\u001b[0m\n\u001b[1;32m      7\u001b[0m \u001b[0;31m# Itera sui beat\u001b[0m\u001b[0;34m\u001b[0m\u001b[0;34m\u001b[0m\u001b[0m\n\u001b[1;32m      8\u001b[0m \u001b[0;32mfor\u001b[0m \u001b[0mid_beat\u001b[0m \u001b[0;32min\u001b[0m \u001b[0mbig_df\u001b[0m\u001b[0;34m[\u001b[0m\u001b[0;34m'id_beat'\u001b[0m\u001b[0;34m]\u001b[0m\u001b[0;34m.\u001b[0m\u001b[0munique\u001b[0m\u001b[0;34m(\u001b[0m\u001b[0;34m)\u001b[0m\u001b[0;34m:\u001b[0m\u001b[0;34m\u001b[0m\u001b[0;34m\u001b[0m\u001b[0m\n\u001b[1;32m      9\u001b[0m \u001b[0;31m#for id_beat in [0,1,2,3]:\u001b[0m\u001b[0;34m\u001b[0m\u001b[0;34m\u001b[0m\u001b[0m\n\u001b[1;32m     10\u001b[0m     \u001b[0;31m# Seleziona il beat\u001b[0m\u001b[0;34m\u001b[0m\u001b[0;34m\u001b[0m\u001b[0m\n\u001b[0;32m---> 11\u001b[0;31m     \u001b[0mbeat\u001b[0m \u001b[0;34m=\u001b[0m \u001b[0mbig_df\u001b[0m\u001b[0;34m[\u001b[0m\u001b[0mbig_df\u001b[0m\u001b[0;34m[\u001b[0m\u001b[0;34m'id_beat'\u001b[0m\u001b[0;34m]\u001b[0m \u001b[0;34m==\u001b[0m \u001b[0mid_beat\u001b[0m\u001b[0;34m]\u001b[0m\u001b[0;34m\u001b[0m\u001b[0;34m\u001b[0m\u001b[0m\n\u001b[0m\u001b[1;32m     12\u001b[0m \u001b[0;34m\u001b[0m\u001b[0m\n\u001b[1;32m     13\u001b[0m     \u001b[0;31m# Crea un array per memorizzare i valori del beat\u001b[0m\u001b[0;34m\u001b[0m\u001b[0;34m\u001b[0m\u001b[0m\n\u001b[1;32m     14\u001b[0m     \u001b[0mvalori_beat\u001b[0m \u001b[0;34m=\u001b[0m \u001b[0mnp\u001b[0m\u001b[0;34m.\u001b[0m\u001b[0mzeros\u001b[0m\u001b[0;34m(\u001b[0m\u001b[0mlunghezza_immagine\u001b[0m\u001b[0;34m)\u001b[0m\u001b[0;34m\u001b[0m\u001b[0;34m\u001b[0m\u001b[0m\n",
      "\u001b[0;32m~/miniconda3/lib/python3.12/site-packages/pandas/core/frame.py\u001b[0m in \u001b[0;36m?\u001b[0;34m(self, key)\u001b[0m\n\u001b[1;32m   4089\u001b[0m             \u001b[0;32mreturn\u001b[0m \u001b[0mself\u001b[0m\u001b[0;34m.\u001b[0m\u001b[0mwhere\u001b[0m\u001b[0;34m(\u001b[0m\u001b[0mkey\u001b[0m\u001b[0;34m)\u001b[0m\u001b[0;34m\u001b[0m\u001b[0;34m\u001b[0m\u001b[0m\n\u001b[1;32m   4090\u001b[0m \u001b[0;34m\u001b[0m\u001b[0m\n\u001b[1;32m   4091\u001b[0m         \u001b[0;31m# Do we have a (boolean) 1d indexer?\u001b[0m\u001b[0;34m\u001b[0m\u001b[0;34m\u001b[0m\u001b[0m\n\u001b[1;32m   4092\u001b[0m         \u001b[0;32mif\u001b[0m \u001b[0mcom\u001b[0m\u001b[0;34m.\u001b[0m\u001b[0mis_bool_indexer\u001b[0m\u001b[0;34m(\u001b[0m\u001b[0mkey\u001b[0m\u001b[0;34m)\u001b[0m\u001b[0;34m:\u001b[0m\u001b[0;34m\u001b[0m\u001b[0;34m\u001b[0m\u001b[0m\n\u001b[0;32m-> 4093\u001b[0;31m             \u001b[0;32mreturn\u001b[0m \u001b[0mself\u001b[0m\u001b[0;34m.\u001b[0m\u001b[0m_getitem_bool_array\u001b[0m\u001b[0;34m(\u001b[0m\u001b[0mkey\u001b[0m\u001b[0;34m)\u001b[0m\u001b[0;34m\u001b[0m\u001b[0;34m\u001b[0m\u001b[0m\n\u001b[0m\u001b[1;32m   4094\u001b[0m \u001b[0;34m\u001b[0m\u001b[0m\n\u001b[1;32m   4095\u001b[0m         \u001b[0;31m# We are left with two options: a single key, and a collection of keys,\u001b[0m\u001b[0;34m\u001b[0m\u001b[0;34m\u001b[0m\u001b[0m\n\u001b[1;32m   4096\u001b[0m         \u001b[0;31m# We interpret tuples as collections only for non-MultiIndex\u001b[0m\u001b[0;34m\u001b[0m\u001b[0;34m\u001b[0m\u001b[0m\n",
      "\u001b[0;32m~/miniconda3/lib/python3.12/site-packages/pandas/core/frame.py\u001b[0m in \u001b[0;36m?\u001b[0;34m(self, key)\u001b[0m\n\u001b[1;32m   4150\u001b[0m \u001b[0;34m\u001b[0m\u001b[0m\n\u001b[1;32m   4151\u001b[0m         \u001b[0;32mif\u001b[0m \u001b[0mkey\u001b[0m\u001b[0;34m.\u001b[0m\u001b[0mall\u001b[0m\u001b[0;34m(\u001b[0m\u001b[0;34m)\u001b[0m\u001b[0;34m:\u001b[0m\u001b[0;34m\u001b[0m\u001b[0;34m\u001b[0m\u001b[0m\n\u001b[1;32m   4152\u001b[0m             \u001b[0;32mreturn\u001b[0m \u001b[0mself\u001b[0m\u001b[0;34m.\u001b[0m\u001b[0mcopy\u001b[0m\u001b[0;34m(\u001b[0m\u001b[0mdeep\u001b[0m\u001b[0;34m=\u001b[0m\u001b[0;32mNone\u001b[0m\u001b[0;34m)\u001b[0m\u001b[0;34m\u001b[0m\u001b[0;34m\u001b[0m\u001b[0m\n\u001b[1;32m   4153\u001b[0m \u001b[0;34m\u001b[0m\u001b[0m\n\u001b[0;32m-> 4154\u001b[0;31m         \u001b[0mindexer\u001b[0m \u001b[0;34m=\u001b[0m \u001b[0mkey\u001b[0m\u001b[0;34m.\u001b[0m\u001b[0mnonzero\u001b[0m\u001b[0;34m(\u001b[0m\u001b[0;34m)\u001b[0m\u001b[0;34m[\u001b[0m\u001b[0;36m0\u001b[0m\u001b[0;34m]\u001b[0m\u001b[0;34m\u001b[0m\u001b[0;34m\u001b[0m\u001b[0m\n\u001b[0m\u001b[1;32m   4155\u001b[0m         \u001b[0;32mreturn\u001b[0m \u001b[0mself\u001b[0m\u001b[0;34m.\u001b[0m\u001b[0m_take_with_is_copy\u001b[0m\u001b[0;34m(\u001b[0m\u001b[0mindexer\u001b[0m\u001b[0;34m,\u001b[0m \u001b[0maxis\u001b[0m\u001b[0;34m=\u001b[0m\u001b[0;36m0\u001b[0m\u001b[0;34m)\u001b[0m\u001b[0;34m\u001b[0m\u001b[0;34m\u001b[0m\u001b[0m\n",
      "\u001b[0;31mKeyboardInterrupt\u001b[0m: "
     ]
    }
   ],
   "source": [
    "# Definisci la lunghezza delle immagini\n",
    "lunghezza_immagine = beat_lunghezze_max\n",
    "\n",
    "# Crea un array per memorizzare le immagini\n",
    "immagini = []\n",
    "\n",
    "# Itera sui beat\n",
    "for id_beat in big_df['id_beat'].unique():\n",
    "#for id_beat in [0,1,2,3]:\n",
    "    # Seleziona il beat\n",
    "    beat = big_df[big_df['id_beat'] == id_beat]\n",
    "    \n",
    "    # Crea un array per memorizzare i valori del beat\n",
    "    valori_beat = np.zeros(lunghezza_immagine)\n",
    "    \n",
    "    # Copia i valori del beat nell'array\n",
    "    valori_beat[:len(beat)] = beat['MLII']\n",
    "    \n",
    "    # Crea un plot del beat\n",
    "    plt.figure(figsize=(10,6))\n",
    "    plt.plot(valori_beat,color='black')\n",
    "    plt.xlabel('Campioni')\n",
    "    plt.ylabel('Valore')\n",
    "    #plt.title(f'Immagine del beat {id_beat}')\n",
    "    plt.axis('off')  # Mostra gli assi\n",
    "    \n",
    "    # Salvo l'immagine in formato PNG\n",
    "    if beat['type'].iloc[0] == 'N':\n",
    "        plt.savefig(f'Images/N/beat_{id_beat}_{beat['type'].iloc[0]}.png', bbox_inches='tight', dpi=25)\n",
    "    elif beat['type'].iloc[0] == 'A':\n",
    "        plt.savefig(f'Images/A/beat_{id_beat}_{beat['type'].iloc[0]}.png', bbox_inches='tight', dpi=25)\n",
    "    elif beat['type'].iloc[0] == 'V':\n",
    "        plt.savefig(f'Images/V/beat_{id_beat}_{beat['type'].iloc[0]}.png', bbox_inches='tight', dpi=25)\n",
    "\n",
    "    \n",
    "    # Chiudi il plot\n",
    "    plt.close()\n"
   ]
  }
 ],
 "metadata": {
  "kernelspec": {
   "display_name": "base",
   "language": "python",
   "name": "python3"
  },
  "language_info": {
   "codemirror_mode": {
    "name": "ipython",
    "version": 3
   },
   "file_extension": ".py",
   "mimetype": "text/x-python",
   "name": "python",
   "nbconvert_exporter": "python",
   "pygments_lexer": "ipython3",
   "version": "3.12.4"
  }
 },
 "nbformat": 4,
 "nbformat_minor": 5
}
